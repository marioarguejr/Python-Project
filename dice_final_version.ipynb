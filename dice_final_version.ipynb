{
 "cells": [
  {
   "cell_type": "code",
   "execution_count": 1,
   "metadata": {},
   "outputs": [
    {
     "name": "stdout",
     "output_type": "stream",
     "text": [
      "Would you like to roll the dice [y/n]?\n",
      "y\n",
      "You rolled dice at 5\n",
      "Would you like to roll the dice [y/n]?\n",
      "y\n",
      "You rolled dice at 3\n",
      "Would you like to roll the dice [y/n]?\n",
      "f\n",
      "invalid response. Please type \"y\" or \"n\".\n",
      "Would you like to roll the dice [y/n]?\n",
      "\n",
      "invalid response. Please type \"y\" or \"n\".\n",
      "Would you like to roll the dice [y/n]?\n",
      "n\n",
      "Thank you for playing. Goodbye!\n"
     ]
    }
   ],
   "source": [
    "#Import random module\n",
    "import random\n",
    "\n",
    "#Set input variable to excute dice coding\n",
    "question = input ('Would you like to roll the dice [y/n]?\\n')\n",
    "\n",
    "#Use while loop to infinitly play dice gamge and determines input is \"n\" or not. \n",
    "#if input is \"n\", stop while loop and print finish string. \n",
    "#if input is not \"n\", it goes to if condition\n",
    "while question !='n':\n",
    "#if input is \"y\" go to variable 'dice'\n",
    "    if question == 'y':\n",
    "#using the random module and randint function to generarte numbers from 1 to 6.\n",
    "        dice = random.randint (1, 6)\n",
    "#print random dice between from 1 to 6\n",
    "        print(\"You rolled dice at\", dice)\n",
    "#repeat question input variable to excute dice coding again. \"y\" goes to if condition and play dice again \n",
    "#if input is \"n\" goes to finish and print\n",
    "        question = input ('Would you like to roll the dice [y/n]?\\n')\n",
    "\n",
    "#Using \"else\" to detect input errors when a player types a letter that is neither \"y\" nor \"n\".\n",
    "    else:\n",
    "#display input instruction that \"y\" and \"n\"\n",
    "        print('invalid response. Please type \"y\" or \"n\".')\n",
    "#the question can be repeat it when the player types error\n",
    "        question = input ('Would you like to roll the dice [y/n]?\\n')\n",
    "\n",
    "#When the player type \"n\", the output will be that the dice game has finished and then prints 'goodbye string'\n",
    "print (\"Thank you for playing. Goodbye!\")"
   ]
  },
  {
   "cell_type": "code",
   "execution_count": null,
   "metadata": {},
   "outputs": [],
   "source": []
  }
 ],
 "metadata": {
  "kernelspec": {
   "display_name": "Python 3",
   "language": "python",
   "name": "python3"
  },
  "language_info": {
   "codemirror_mode": {
    "name": "ipython",
    "version": 3
   },
   "file_extension": ".py",
   "mimetype": "text/x-python",
   "name": "python",
   "nbconvert_exporter": "python",
   "pygments_lexer": "ipython3",
   "version": "3.6.7"
  }
 },
 "nbformat": 4,
 "nbformat_minor": 2
}
